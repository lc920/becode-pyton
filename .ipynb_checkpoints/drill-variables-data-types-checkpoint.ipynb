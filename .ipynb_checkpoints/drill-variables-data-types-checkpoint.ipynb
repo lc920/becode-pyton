{
 "cells": [
  {
   "cell_type": "markdown",
   "metadata": {},
   "source": [
    "**1. Create a variable `name` that contains the value `\"Alan Turing\"`.**"
   ]
  },
  {
   "cell_type": "code",
   "execution_count": 5,
   "metadata": {},
   "outputs": [],
   "source": [
    "name = \"Alan Turing\""
   ]
  },
  {
   "cell_type": "markdown",
   "metadata": {},
   "source": [
    "**2. Create a variable `age` that contains the value 42.**"
   ]
  },
  {
   "cell_type": "code",
   "execution_count": 4,
   "metadata": {},
   "outputs": [],
   "source": [
    "age = 42"
   ]
  },
  {
   "cell_type": "markdown",
   "metadata": {},
   "source": [
    "**3. Create a variable `person` that contains a list with the following values: `name`, `age` and `\"mathematician\"`**"
   ]
  },
  {
   "cell_type": "code",
   "execution_count": 6,
   "metadata": {},
   "outputs": [],
   "source": [
    "person = [name, age, \"mathematician\"]"
   ]
  },
  {
   "cell_type": "markdown",
   "metadata": {},
   "source": [
    "**4. Create a variable `text` that contains `\"Hello, my name is Alan Turing, I am 42 years old and I am a mathematician.\"`\n",
    "Use the `format()` method and the variable `person`  to do this.**"
   ]
  },
  {
   "cell_type": "code",
   "execution_count": null,
   "metadata": {},
   "outputs": [],
   "source": [
    "person = [\"Alan Turing\", 42, \"mathematician\"]\n",
    "text = \"Hello, my name is {}, i am {} years old, and i am a {}.\" .format (person[0], person[1], person[2])\n",
    "print(text)"
   ]
  },
  {
   "cell_type": "markdown",
   "metadata": {},
   "source": [
    "**5. Create a variable `age_type` that contains the type of the `age` variable.**"
   ]
  },
  {
   "cell_type": "code",
   "execution_count": null,
   "metadata": {},
   "outputs": [],
   "source": [
    "age = 27 \n",
    "age_type = (age)"
   ]
  },
  {
   "cell_type": "markdown",
   "metadata": {},
   "source": [
    "## Testing\n",
    "\n",
    "\n",
    "The following piece of code is to test that you have correctly done the above exercises.\n",
    "If it fails, it means that some of your code is not correct. Read the error messages of each test carefully.\n",
    "\n",
    "If the syntax of the code below is confusing (`class`,`self`, etc...), don't worry, you will see it soon. The only thing you should know is that the method `assertEqual` checks if the right argument matches the left one, e.g. for `assertEqual(name, \"Alan Turing\")` it checks that `name` is equal to `\"Alan Turing\"`.\n",
    "\n",
    "Every good developer tests his code. So we're going to get the right habits now. Do not change the code, execute it."
   ]
  },
  {
   "cell_type": "code",
   "execution_count": 7,
   "metadata": {},
   "outputs": [
    {
     "name": "stderr",
     "output_type": "stream",
     "text": [
      "test_age (__main__.TestNotebook.test_age) ... ok\n",
      "test_name (__main__.TestNotebook.test_name) ... ok\n",
      "test_person (__main__.TestNotebook.test_person) ... ok\n",
      "test_text (__main__.TestNotebook.test_text) ... ERROR\n",
      "test_type (__main__.TestNotebook.test_type) ... ERROR\n",
      "\n",
      "======================================================================\n",
      "ERROR: test_text (__main__.TestNotebook.test_text)\n",
      "----------------------------------------------------------------------\n",
      "Traceback (most recent call last):\n",
      "  File \"/tmp/ipykernel_74640/3305081291.py\", line 16, in test_text\n",
      "    text,\n",
      "    ^^^^\n",
      "NameError: name 'text' is not defined\n",
      "\n",
      "======================================================================\n",
      "ERROR: test_type (__main__.TestNotebook.test_type)\n",
      "----------------------------------------------------------------------\n",
      "Traceback (most recent call last):\n",
      "  File \"/tmp/ipykernel_74640/3305081291.py\", line 21, in test_type\n",
      "    self.assertEqual(age_type, int)\n",
      "                     ^^^^^^^^\n",
      "NameError: name 'age_type' is not defined\n",
      "\n",
      "----------------------------------------------------------------------\n",
      "Ran 5 tests in 0.005s\n",
      "\n",
      "FAILED (errors=2)\n"
     ]
    },
    {
     "data": {
      "text/plain": [
       "<unittest.main.TestProgram at 0x7f40215f2690>"
      ]
     },
     "execution_count": 7,
     "metadata": {},
     "output_type": "execute_result"
    }
   ],
   "source": [
    "import unittest\n",
    "\n",
    "\n",
    "class TestNotebook(unittest.TestCase):\n",
    "    def test_name(self):\n",
    "        self.assertEqual(name, \"Alan Turing\")\n",
    "\n",
    "    def test_age(self):\n",
    "        self.assertEqual(age, 42)\n",
    "\n",
    "    def test_person(self):\n",
    "        self.assertEqual(person, [\"Alan Turing\", 42, \"mathematician\"])\n",
    "\n",
    "    def test_text(self):\n",
    "        self.assertEqual(\n",
    "            text,\n",
    "            \"Hello, my name is Alan Turing, I am 42 years old and I am a mathematician.\",\n",
    "        )\n",
    "\n",
    "    def test_type(self):\n",
    "        self.assertEqual(age_type, int)\n",
    "\n",
    "\n",
    "unittest.main(argv=[\"\"], verbosity=2, exit=False)"
   ]
  },
  {
   "cell_type": "markdown",
   "metadata": {},
   "source": [
    "## [Is everything okay? Well, you can move on.](../3.basics-operators/basics-operators.ipynb)"
   ]
  }
 ],
 "metadata": {
  "kernelspec": {
   "display_name": "Python 3 (ipykernel)",
   "language": "python",
   "name": "python3"
  },
  "language_info": {
   "codemirror_mode": {
    "name": "ipython",
    "version": 3
   },
   "file_extension": ".py",
   "mimetype": "text/x-python",
   "name": "python",
   "nbconvert_exporter": "python",
   "pygments_lexer": "ipython3",
   "version": "3.11.7"
  }
 },
 "nbformat": 4,
 "nbformat_minor": 2
}
